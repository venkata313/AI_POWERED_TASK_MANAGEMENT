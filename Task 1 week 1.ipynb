{
 "cells": [
  {
   "cell_type": "code",
   "execution_count": 1,
   "id": "728b7900-63c2-468a-9643-11f075049ee8",
   "metadata": {},
   "outputs": [],
   "source": [
    "#Install Required Libraries\n",
    "!pip install kagglehub[pandas-datasets] nltk seaborn matplotlib --quiet"
   ]
  },
  {
   "cell_type": "code",
   "execution_count": 3,
   "id": "cfb6f91c-4817-46f6-ac89-ca31dad3ab9e",
   "metadata": {},
   "outputs": [],
   "source": [
    "#Import Libraries\n",
    "import pandas as pd\n",
    "import matplotlib.pyplot as plt\n",
    "import seaborn as sns\n",
    "import nltk\n",
    "import re\n",
    "from nltk.corpus import stopwords\n",
    "from nltk.stem import PorterStemmer"
   ]
  },
  {
   "cell_type": "raw",
   "id": "b5567611-ef7f-4dd4-b7de-3db643f00fb7",
   "metadata": {
    "panel-layout": {
     "height": 27.1406,
     "visible": true,
     "width": 100
    }
   },
   "source": [
    "nltk.download('stopwords')"
   ]
  },
  {
   "cell_type": "code",
   "execution_count": 7,
   "id": "19dfdf56-d494-4632-8941-c640647a8fb5",
   "metadata": {},
   "outputs": [],
   "source": [
    "df=pd.read_csv(r'C:\\Users\\venkata sai kapa\\Downloads\\jira_dataset.csv')"
   ]
  },
  {
   "cell_type": "code",
   "execution_count": null,
   "id": "88b02f82-2dc3-468b-b7ca-d5752b26acd8",
   "metadata": {},
   "outputs": [],
   "source": [
    "# Exploratory Data Analysis"
   ]
  },
  {
   "cell_type": "code",
   "execution_count": 9,
   "id": "8c84ffe8-10ce-4d6c-8097-fdd63e37175a",
   "metadata": {
    "panel-layout": {
     "height": 282,
     "visible": true,
     "width": 100
    }
   },
   "outputs": [
    {
     "data": {
      "text/html": [
       "<div>\n",
       "<style scoped>\n",
       "    .dataframe tbody tr th:only-of-type {\n",
       "        vertical-align: middle;\n",
       "    }\n",
       "\n",
       "    .dataframe tbody tr th {\n",
       "        vertical-align: top;\n",
       "    }\n",
       "\n",
       "    .dataframe thead th {\n",
       "        text-align: right;\n",
       "    }\n",
       "</style>\n",
       "<table border=\"1\" class=\"dataframe\">\n",
       "  <thead>\n",
       "    <tr style=\"text-align: right;\">\n",
       "      <th></th>\n",
       "      <th>clean_summary</th>\n",
       "      <th>issue_type</th>\n",
       "      <th>status</th>\n",
       "      <th>project_name</th>\n",
       "      <th>project_type</th>\n",
       "      <th>project_lead</th>\n",
       "      <th>project_description</th>\n",
       "      <th>priority</th>\n",
       "      <th>resolution</th>\n",
       "      <th>task_assignee</th>\n",
       "      <th>task_deadline</th>\n",
       "      <th>text_length</th>\n",
       "      <th>cleaned_Task Description</th>\n",
       "      <th>cleaned_User Comments</th>\n",
       "    </tr>\n",
       "  </thead>\n",
       "  <tbody>\n",
       "    <tr>\n",
       "      <th>0</th>\n",
       "      <td>implement task dashboard</td>\n",
       "      <td>bug</td>\n",
       "      <td>progress</td>\n",
       "      <td>backendapi</td>\n",
       "      <td>software</td>\n",
       "      <td>jatin raj</td>\n",
       "      <td>internal devops automation tool</td>\n",
       "      <td>low</td>\n",
       "      <td>done</td>\n",
       "      <td>brian kim</td>\n",
       "      <td>tow days</td>\n",
       "      <td>24</td>\n",
       "      <td>default task description</td>\n",
       "      <td>default task description</td>\n",
       "    </tr>\n",
       "    <tr>\n",
       "      <th>1</th>\n",
       "      <td>add dark mode feature</td>\n",
       "      <td>task</td>\n",
       "      <td>done</td>\n",
       "      <td>web portal</td>\n",
       "      <td>software</td>\n",
       "      <td>jatin raj</td>\n",
       "      <td>building ai model task sorting</td>\n",
       "      <td>medium</td>\n",
       "      <td>done</td>\n",
       "      <td>shraddha</td>\n",
       "      <td>five days</td>\n",
       "      <td>21</td>\n",
       "      <td>default task description</td>\n",
       "      <td>default task description</td>\n",
       "    </tr>\n",
       "    <tr>\n",
       "      <th>2</th>\n",
       "      <td>design splash screen</td>\n",
       "      <td>bug</td>\n",
       "      <td>review</td>\n",
       "      <td>mobileapp</td>\n",
       "      <td>software</td>\n",
       "      <td>pooja agarwal</td>\n",
       "      <td>portal customer access</td>\n",
       "      <td>low</td>\n",
       "      <td>progress</td>\n",
       "      <td>alice johnson</td>\n",
       "      <td>tow days</td>\n",
       "      <td>20</td>\n",
       "      <td>default task description</td>\n",
       "      <td>default task description</td>\n",
       "    </tr>\n",
       "    <tr>\n",
       "      <th>3</th>\n",
       "      <td>design splash screen</td>\n",
       "      <td>story</td>\n",
       "      <td>done</td>\n",
       "      <td>aiengine</td>\n",
       "      <td>software</td>\n",
       "      <td>pooja agarwal</td>\n",
       "      <td>building ai model task sorting</td>\n",
       "      <td>critical</td>\n",
       "      <td>progress</td>\n",
       "      <td>pooja agarwal</td>\n",
       "      <td>for days</td>\n",
       "      <td>20</td>\n",
       "      <td>default task description</td>\n",
       "      <td>default task description</td>\n",
       "    </tr>\n",
       "    <tr>\n",
       "      <th>4</th>\n",
       "      <td>revamp login ui</td>\n",
       "      <td>bug</td>\n",
       "      <td>review</td>\n",
       "      <td>devopstooling</td>\n",
       "      <td>software</td>\n",
       "      <td>pooja agarwal</td>\n",
       "      <td>building ai model task sorting</td>\n",
       "      <td>critical</td>\n",
       "      <td>progress</td>\n",
       "      <td>alice johnson</td>\n",
       "      <td>one days</td>\n",
       "      <td>15</td>\n",
       "      <td>default task description</td>\n",
       "      <td>default task description</td>\n",
       "    </tr>\n",
       "  </tbody>\n",
       "</table>\n",
       "</div>"
      ],
      "text/plain": [
       "              clean_summary issue_type    status   project_name project_type  \\\n",
       "0  implement task dashboard        bug  progress     backendapi     software   \n",
       "1     add dark mode feature       task      done     web portal     software   \n",
       "2      design splash screen        bug    review      mobileapp     software   \n",
       "3      design splash screen      story      done       aiengine     software   \n",
       "4           revamp login ui        bug    review  devopstooling     software   \n",
       "\n",
       "    project_lead              project_description  priority resolution  \\\n",
       "0      jatin raj  internal devops automation tool       low       done   \n",
       "1      jatin raj   building ai model task sorting    medium       done   \n",
       "2  pooja agarwal           portal customer access       low   progress   \n",
       "3  pooja agarwal   building ai model task sorting  critical   progress   \n",
       "4  pooja agarwal   building ai model task sorting  critical   progress   \n",
       "\n",
       "   task_assignee task_deadline  text_length  cleaned_Task Description  \\\n",
       "0      brian kim      tow days           24  default task description   \n",
       "1       shraddha     five days           21  default task description   \n",
       "2  alice johnson      tow days           20  default task description   \n",
       "3  pooja agarwal      for days           20  default task description   \n",
       "4  alice johnson      one days           15  default task description   \n",
       "\n",
       "      cleaned_User Comments  \n",
       "0  default task description  \n",
       "1  default task description  \n",
       "2  default task description  \n",
       "3  default task description  \n",
       "4  default task description  "
      ]
     },
     "execution_count": 9,
     "metadata": {},
     "output_type": "execute_result"
    }
   ],
   "source": [
    "df.head()"
   ]
  },
  {
   "cell_type": "code",
   "execution_count": 11,
   "id": "633a7d02-5fc3-4855-a5dc-3dca92f55118",
   "metadata": {
    "panel-layout": {
     "height": 0,
     "visible": true,
     "width": 100
    }
   },
   "outputs": [
    {
     "name": "stdout",
     "output_type": "stream",
     "text": [
      "<class 'pandas.core.frame.DataFrame'>\n",
      "RangeIndex: 1233 entries, 0 to 1232\n",
      "Data columns (total 14 columns):\n",
      " #   Column                    Non-Null Count  Dtype \n",
      "---  ------                    --------------  ----- \n",
      " 0   clean_summary             1233 non-null   object\n",
      " 1   issue_type                1233 non-null   object\n",
      " 2   status                    928 non-null    object\n",
      " 3   project_name              1233 non-null   object\n",
      " 4   project_type              1233 non-null   object\n",
      " 5   project_lead              1233 non-null   object\n",
      " 6   project_description       1233 non-null   object\n",
      " 7   priority                  1233 non-null   object\n",
      " 8   resolution                1233 non-null   object\n",
      " 9   task_assignee             1233 non-null   object\n",
      " 10  task_deadline             1233 non-null   object\n",
      " 11  text_length               1233 non-null   int64 \n",
      " 12  cleaned_Task Description  1232 non-null   object\n",
      " 13  cleaned_User Comments     1232 non-null   object\n",
      "dtypes: int64(1), object(13)\n",
      "memory usage: 135.0+ KB\n"
     ]
    }
   ],
   "source": [
    "# Check structure and nulls\n",
    "df.info()"
   ]
  },
  {
   "cell_type": "code",
   "execution_count": 13,
   "id": "3fb906f8-bb1c-424b-bd1f-f1633fa4c822",
   "metadata": {
    "panel-layout": {
     "height": 443,
     "visible": true,
     "width": 100
    }
   },
   "outputs": [
    {
     "data": {
      "text/plain": [
       "clean_summary                 0\n",
       "issue_type                    0\n",
       "status                      305\n",
       "project_name                  0\n",
       "project_type                  0\n",
       "project_lead                  0\n",
       "project_description           0\n",
       "priority                      0\n",
       "resolution                    0\n",
       "task_assignee                 0\n",
       "task_deadline                 0\n",
       "text_length                   0\n",
       "cleaned_Task Description      1\n",
       "cleaned_User Comments         1\n",
       "dtype: int64"
      ]
     },
     "execution_count": 13,
     "metadata": {},
     "output_type": "execute_result"
    }
   ],
   "source": [
    "df.isnull().sum()"
   ]
  },
  {
   "cell_type": "code",
   "execution_count": 23,
   "id": "c2b576de-dac0-45e4-9b3c-cb0dbd05452c",
   "metadata": {
    "panel-layout": {
     "height": 0,
     "visible": true,
     "width": 100
    }
   },
   "outputs": [],
   "source": [
    "#Drop missing and duplicate values\n",
    "df.drop_duplicates(inplace=True)"
   ]
  },
  {
   "cell_type": "code",
   "execution_count": 47,
   "id": "0b549b9f-dd9c-47a5-889c-d02c044e0e78",
   "metadata": {
    "panel-layout": {
     "height": 0,
     "visible": true,
     "width": 100
    }
   },
   "outputs": [
    {
     "name": "stdout",
     "output_type": "stream",
     "text": [
      "Index(['clean_summary', 'issue_type', 'status', 'project_name', 'project_type',\n",
      "       'project_lead', 'project_description', 'priority', 'resolution',\n",
      "       'task_assignee', 'task_deadline', 'text_length',\n",
      "       'cleaned_Task Description', 'cleaned_User Comments'],\n",
      "      dtype='object')\n"
     ]
    }
   ],
   "source": [
    "# Plot: Task Complexity\n",
    "print(df.columns)"
   ]
  },
  {
   "cell_type": "markdown",
   "id": "b30989c2-e155-4273-9eeb-60e8b641546d",
   "metadata": {},
   "source": [
    "df.columns = df.columns.str.strip()"
   ]
  },
  {
   "cell_type": "code",
   "execution_count": 51,
   "id": "099a5443-999f-464b-884a-25e0fdc70073",
   "metadata": {
    "panel-layout": {
     "height": 0,
     "visible": true,
     "width": 100
    }
   },
   "outputs": [],
   "source": [
    "column_data = df.get('corrected_column_Nmae')\n",
    "if column_data is not None:\n",
    "    sns.histplot(column_data, bins = 10, kde=True)\n",
    "    plt.title(\"Task Complexity\")\n",
    "plt.show()"
   ]
  },
  {
   "cell_type": "code",
   "execution_count": 57,
   "id": "c333a41c-a5b6-4f80-9952-65c823fc08b9",
   "metadata": {
    "panel-layout": {
     "height": 586,
     "visible": true,
     "width": 100
    }
   },
   "outputs": [
    {
     "data": {
      "image/png": "[encoded data removed]",
      "text/plain": [
       "<Figure size 800x400 with 1 Axes>"
      ]
     },
     "metadata": {},
     "output_type": "display_data"
    }
   ],
   "source": [
    "df['project_description'].value_counts().head(10).plot(kind='bar', figsize=(8,4), color='skyblue')\n",
    "plt.title(\"Top 10 project_description\")\n",
    "plt.ylabel(\"Tasks\")\n",
    "plt.xticks(rotation=45)\n",
    "plt.show()"
   ]
  },
  {
   "cell_type": "code",
   "execution_count": null,
   "id": "3ec77d99-fac3-4458-be00-10e22391ad96",
   "metadata": {},
   "outputs": [],
   "source": [
    "#NLP Preprocessing on task description"
   ]
  },
  {
   "cell_type": "code",
   "execution_count": 59,
   "id": "ad443bae-0f2c-4f40-aefc-9c211bfd3482",
   "metadata": {
    "panel-layout": {
     "height": 586,
     "visible": true,
     "width": 100
    }
   },
   "outputs": [
    {
     "name": "stdout",
     "output_type": "stream",
     "text": [
      "Index(['clean_summary', 'issue_type', 'status', 'project_name', 'project_type',\n",
      "       'project_lead', 'project_description', 'priority', 'resolution',\n",
      "       'task_assignee', 'task_deadline', 'text_length',\n",
      "       'cleaned_Task Description', 'cleaned_User Comments'],\n",
      "      dtype='object')\n"
     ]
    }
   ],
   "source": [
    "print(df.columns)"
   ]
  },
  {
   "cell_type": "code",
   "execution_count": 65,
   "id": "60b9406c-6555-425c-8c68-a5ebde2d9596",
   "metadata": {},
   "outputs": [],
   "source": [
    "stop_words = set(stopwords.words('english'))\n",
    "stemmer = PorterStemmer()\n",
    "\n",
    "def preprocess_text(text):\n",
    "\n",
    "    if not isinstance(text, str) or pd.isna(text):\n",
    "        return \"\"\n",
    "    text = text.lower()\n",
    "    text = re.sub(r\"[^a-z\\s]\", \"\", text)\n",
    "    tokens = text.split()\n",
    "    tokens = [stemmer.stem(word) for word in tokens if word not in stop_words]\n",
    "    return \" \".join(tokens)\n"
   ]
  },
  {
   "cell_type": "code",
   "execution_count": 67,
   "id": "b2b4fada-f522-4ba1-bf48-de42bb9f03bd",
   "metadata": {},
   "outputs": [],
   "source": [
    "\n",
    "# Use 'Project Description' instead of 'task_description'\n",
    "df['cleaned_description'] = df['project_description'].apply(preprocess_text)\n"
   ]
  },
  {
   "cell_type": "code",
   "execution_count": 69,
   "id": "1cdee8f5-e940-4e41-9420-d90d145f93c4",
   "metadata": {
    "panel-layout": {
     "height": 759,
     "visible": true,
     "width": 100
    }
   },
   "outputs": [
    {
     "data": {
      "text/html": [
       "<div>\n",
       "<style scoped>\n",
       "    .dataframe tbody tr th:only-of-type {\n",
       "        vertical-align: middle;\n",
       "    }\n",
       "\n",
       "    .dataframe tbody tr th {\n",
       "        vertical-align: top;\n",
       "    }\n",
       "\n",
       "    .dataframe thead th {\n",
       "        text-align: right;\n",
       "    }\n",
       "</style>\n",
       "<table border=\"1\" class=\"dataframe\">\n",
       "  <thead>\n",
       "    <tr style=\"text-align: right;\">\n",
       "      <th></th>\n",
       "      <th>project_description</th>\n",
       "      <th>cleaned_description</th>\n",
       "    </tr>\n",
       "  </thead>\n",
       "  <tbody>\n",
       "    <tr>\n",
       "      <th>0</th>\n",
       "      <td>internal devops automation tool</td>\n",
       "      <td>intern devop autom tool</td>\n",
       "    </tr>\n",
       "    <tr>\n",
       "      <th>1</th>\n",
       "      <td>building ai model task sorting</td>\n",
       "      <td>build ai model task sort</td>\n",
       "    </tr>\n",
       "    <tr>\n",
       "      <th>2</th>\n",
       "      <td>portal customer access</td>\n",
       "      <td>portal custom access</td>\n",
       "    </tr>\n",
       "    <tr>\n",
       "      <th>3</th>\n",
       "      <td>building ai model task sorting</td>\n",
       "      <td>build ai model task sort</td>\n",
       "    </tr>\n",
       "    <tr>\n",
       "      <th>4</th>\n",
       "      <td>building ai model task sorting</td>\n",
       "      <td>build ai model task sort</td>\n",
       "    </tr>\n",
       "  </tbody>\n",
       "</table>\n",
       "</div>"
      ],
      "text/plain": [
       "               project_description       cleaned_description\n",
       "0  internal devops automation tool   intern devop autom tool\n",
       "1   building ai model task sorting  build ai model task sort\n",
       "2           portal customer access      portal custom access\n",
       "3   building ai model task sorting  build ai model task sort\n",
       "4   building ai model task sorting  build ai model task sort"
      ]
     },
     "execution_count": 69,
     "metadata": {},
     "output_type": "execute_result"
    }
   ],
   "source": [
    "# Preview cleaned data - update column name here as well\n",
    "df[['project_description', 'cleaned_description']].head()"
   ]
  },
  {
   "cell_type": "code",
   "execution_count": 73,
   "id": "2f6c26b4-1b44-42fd-b89e-3cdca7345499",
   "metadata": {
    "panel-layout": {
     "height": 586,
     "visible": true,
     "width": 100
    }
   },
   "outputs": [
    {
     "name": "stdout",
     "output_type": "stream",
     "text": [
      "✅ Cleaned dataset saved as 'cleaned_tasks.csv'\n"
     ]
    }
   ],
   "source": [
    "df.to_csv(r'C:\\Users\\venkata sai kapa\\Downloads\\jira_dataset.csv', index=False)\n",
    "print(\"✅ Cleaned dataset saved as 'cleaned_tasks.csv'\")"
   ]
  },
  {
   "cell_type": "code",
   "execution_count": 89,
   "id": "4e229048-9457-41bd-8834-e9aafd326e6b",
   "metadata": {
    "panel-layout": {
     "height": 613.141,
     "visible": true,
     "width": 100
    }
   },
   "outputs": [
    {
     "data": {
      "text/html": [
       "<a href='C:\\Users\\venkata sai kapa\\Downloads\\jira_dataset.csv' target='_blank'>C:\\Users\\venkata sai kapa\\Downloads\\jira_dataset.csv</a><br>"
      ],
      "text/plain": [
       "C:\\Users\\venkata sai kapa\\Downloads\\jira_dataset.csv"
      ]
     },
     "execution_count": 89,
     "metadata": {},
     "output_type": "execute_result"
    }
   ],
   "source": [
    "from IPython.display import FileLink\n",
    "FileLink(r'C:\\Users\\venkata sai kapa\\Downloads\\jira_dataset.csv')  # Creates a download link"
   ]
  },
  {
   "cell_type": "code",
   "execution_count": null,
   "id": "cf74f77f-8d88-43c4-bd75-a6c59d89aa01",
   "metadata": {},
   "outputs": [],
   "source": []
  }
 ],
 "metadata": {
  "kernelspec": {
   "display_name": "Python 3 (ipykernel)",
   "language": "python",
   "name": "python3"
  },
  "language_info": {
   "codemirror_mode": {
    "name": "ipython",
    "version": 3
   },
   "file_extension": ".py",
   "mimetype": "text/x-python",
   "name": "python",
   "nbconvert_exporter": "python",
   "pygments_lexer": "ipython3",
   "version": "3.12.4"
  },
  "panel-cell-order": [
   "9c747e0d-f1ce-414c-acd9-50b0f30ed40b",
   "8c84ffe8-10ce-4d6c-8097-fdd63e37175a",
   "633a7d02-5fc3-4855-a5dc-3dca92f55118",
   "3fb906f8-bb1c-424b-bd1f-f1633fa4c822",
   "c2b576de-dac0-45e4-9b3c-cb0dbd05452c",
   "0b549b9f-dd9c-47a5-889c-d02c044e0e78",
   "099a5443-999f-464b-884a-25e0fdc70073",
   "c333a41c-a5b6-4f80-9952-65c823fc08b9",
   "ad443bae-0f2c-4f40-aefc-9c211bfd3482",
   "1cdee8f5-e940-4e41-9420-d90d145f93c4",
   "2f6c26b4-1b44-42fd-b89e-3cdca7345499",
   "4e229048-9457-41bd-8834-e9aafd326e6b"
  ]
 },
 "nbformat": 4,
 "nbformat_minor": 5
}
